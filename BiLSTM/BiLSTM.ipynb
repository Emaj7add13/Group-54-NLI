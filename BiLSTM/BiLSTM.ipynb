{
  "cells": [
    {
      "cell_type": "code",
      "execution_count": 1,
      "metadata": {
        "colab": {
          "base_uri": "https://localhost:8080/"
        },
        "id": "rhzf3fmWc5ld",
        "outputId": "41063710-0648-4c1c-bbca-007de6064235"
      },
      "outputs": [
        {
          "name": "stdout",
          "output_type": "stream",
          "text": [
            "Collecting fasttext\n",
            "  Downloading fasttext-0.9.2.tar.gz (68 kB)\n",
            "\u001b[2K     \u001b[90m━━━━━━━━━━━━━━━━━━━━━━━━━━━━━━━━━━━━━━━━\u001b[0m \u001b[32m68.8/68.8 kB\u001b[0m \u001b[31m465.5 kB/s\u001b[0m eta \u001b[36m0:00:00\u001b[0m\n",
            "\u001b[?25h  Preparing metadata (setup.py) ... \u001b[?25l\u001b[?25hdone\n",
            "Collecting pybind11>=2.2 (from fasttext)\n",
            "  Using cached pybind11-2.12.0-py3-none-any.whl (234 kB)\n",
            "Requirement already satisfied: setuptools>=0.7.0 in /usr/local/lib/python3.10/dist-packages (from fasttext) (67.7.2)\n",
            "Requirement already satisfied: numpy in /usr/local/lib/python3.10/dist-packages (from fasttext) (1.25.2)\n",
            "Building wheels for collected packages: fasttext\n",
            "  Building wheel for fasttext (setup.py) ... \u001b[?25l\u001b[?25hdone\n",
            "  Created wheel for fasttext: filename=fasttext-0.9.2-cp310-cp310-linux_x86_64.whl size=4227141 sha256=0ad22c2e3a5ad1afd3278c0c59c38aae4d30cacf4291e4ce88c57bc3962e65cb\n",
            "  Stored in directory: /root/.cache/pip/wheels/a5/13/75/f811c84a8ab36eedbaef977a6a58a98990e8e0f1967f98f394\n",
            "Successfully built fasttext\n",
            "Installing collected packages: pybind11, fasttext\n",
            "Successfully installed fasttext-0.9.2 pybind11-2.12.0\n"
          ]
        }
      ],
      "source": [
        "pip install fasttext"
      ]
    },
    {
      "cell_type": "code",
      "execution_count": null,
      "metadata": {
        "id": "FCXC3qLMbbGz"
      },
      "outputs": [],
      "source": [
        "from keras.models import Sequential, Model\n",
        "from keras.layers import Input, LSTM, Dense, Embedding, Bidirectional, Dropout, Conv1D, GlobalMaxPooling1D, Masking, Reshape, Input, concatenate, Flatten, BatchNormalization, Attention, Dot, Concatenate\n",
        "from keras.optimizers import Adam\n",
        "from keras.preprocessing.sequence import pad_sequences\n",
        "from keras.preprocessing.text import Tokenizer\n",
        "from keras.utils import to_categorical\n",
        "from keras import regularizers\n",
        "import numpy as np\n",
        "import pandas as pd\n",
        "import nltk\n",
        "from nltk.corpus import stopwords\n",
        "from nltk.stem import WordNetLemmatizer\n",
        "import string\n",
        "import time\n",
        "import matplotlib\n",
        "import numpy as np\n",
        "import matplotlib.pyplot as plt\n",
        "from keras.models import load_model\n",
        "import fasttext"
      ]
    },
    {
      "cell_type": "code",
      "execution_count": null,
      "metadata": {},
      "outputs": [],
      "source": [
        "nltk.download('stopwords')\n",
        "nltk.download('punkt')\n",
        "nltk.download('wordnet')"
      ]
    },
    {
      "cell_type": "code",
      "execution_count": 21,
      "metadata": {
        "id": "pZd_RgoebbG4"
      },
      "outputs": [],
      "source": [
        "df=pd.read_csv('train.csv')\n",
        "df=df.fillna(value='')\n",
        "labels=np.array(df['label'])\n",
        "premise=df['premise'].tolist()\n",
        "hypothesis=df['hypothesis'].tolist()\n",
        "\n",
        "lemmatizer = WordNetLemmatizer()\n",
        "p_pre=[]\n",
        "h_pre=[]\n",
        "#Do not remove stop words.\n",
        "for i in range(len(premise)):\n",
        "  p_token=[word for word in premise[i] if word not in string.punctuation]\n",
        "  p_token=[word.lower() for word in p_token]\n",
        "  #p_token=[word for word in p_token if word not in stop_words]\n",
        "  lemma_p=[lemmatizer.lemmatize(word) for word in p_token]\n",
        "  p_pre.append(lemma_p)\n",
        "\n",
        "  h_token=[word for word in hypothesis[i] if word not in string.punctuation]\n",
        "  h_token=[word.lower() for word in h_token]\n",
        "  #h_token=[word for word in h_token if word not in stop_words]\n",
        "  lemma_h=[lemmatizer.lemmatize(word) for word in h_token]\n",
        "  h_pre.append(lemma_h)\n",
        "\n",
        "texts=p_pre+h_pre\n",
        "tokenizer=Tokenizer(num_words=10000)\n",
        "tokenizer.fit_on_texts(texts)\n",
        "vocab_size=10000\n",
        "\n",
        "max_sequence_length=120\n",
        "p_seq=tokenizer.texts_to_sequences(p_pre)\n",
        "padded_p=pad_sequences(p_seq, maxlen=max_sequence_length, padding='post', truncating='post')\n",
        "h_seq=tokenizer.texts_to_sequences(h_pre)\n",
        "padded_h=pad_sequences(h_seq, maxlen=max_sequence_length, padding='post', truncating='post')\n",
        "\n"
      ]
    },
    {
      "cell_type": "code",
      "execution_count": 22,
      "metadata": {
        "id": "dvfx41bWfKN2"
      },
      "outputs": [],
      "source": [
        "#Fasttext pretrained embedding.\n",
        "with open('text_data.txt', 'w') as f:\n",
        "    for text in texts:\n",
        "        f.write(' '.join(map(str, text))+'\\n')\n",
        "v2v=fasttext.train_unsupervised('text_data.txt', model='skipgram', dim=64, epoch=30, minCount=5, lr=0.05)\n"
      ]
    },
    {
      "cell_type": "code",
      "execution_count": 23,
      "metadata": {
        "colab": {
          "base_uri": "https://localhost:8080/"
        },
        "id": "hEx6Ba8abbG7",
        "outputId": "97a49aa1-ee6c-43a8-a7bc-f5b6c414644a"
      },
      "outputs": [
        {
          "name": "stdout",
          "output_type": "stream",
          "text": [
            "Model: \"model_3\"\n",
            "__________________________________________________________________________________________________\n",
            " Layer (type)                Output Shape                 Param #   Connected to                  \n",
            "==================================================================================================\n",
            " input_7 (InputLayer)        [(None, 120)]                0         []                            \n",
            "                                                                                                  \n",
            " input_8 (InputLayer)        [(None, 120)]                0         []                            \n",
            "                                                                                                  \n",
            " embedding_3 (Embedding)     (None, 120, 64)              640000    ['input_7[0][0]',             \n",
            "                                                                     'input_8[0][0]']             \n",
            "                                                                                                  \n",
            " bidirectional_3 (Bidirecti  (None, 120, 128)             66048     ['embedding_3[0][0]',         \n",
            " onal)                                                               'embedding_3[1][0]']         \n",
            "                                                                                                  \n",
            " global_max_pooling1d_6 (Gl  (None, 128)                  0         ['bidirectional_3[0][0]']     \n",
            " obalMaxPooling1D)                                                                                \n",
            "                                                                                                  \n",
            " global_max_pooling1d_7 (Gl  (None, 128)                  0         ['bidirectional_3[1][0]']     \n",
            " obalMaxPooling1D)                                                                                \n",
            "                                                                                                  \n",
            " concatenate_3 (Concatenate  (None, 256)                  0         ['global_max_pooling1d_6[0][0]\n",
            " )                                                                  ',                            \n",
            "                                                                     'global_max_pooling1d_7[0][0]\n",
            "                                                                    ']                            \n",
            "                                                                                                  \n",
            " dense_3 (Dense)             (None, 2)                    514       ['concatenate_3[0][0]']       \n",
            "                                                                                                  \n",
            "==================================================================================================\n",
            "Total params: 706562 (2.70 MB)\n",
            "Trainable params: 66562 (260.01 KB)\n",
            "Non-trainable params: 640000 (2.44 MB)\n",
            "__________________________________________________________________________________________________\n"
          ]
        }
      ],
      "source": [
        "embedding_dim=64\n",
        "input_premise = Input(shape=(max_sequence_length,))\n",
        "input_hypothesis = Input(shape=(max_sequence_length,))\n",
        "\n",
        "#FastText Embedding\n",
        "embedding_matrix = np.zeros((vocab_size, embedding_dim))\n",
        "for word, i in tokenizer.word_index.items():\n",
        "    embedding_vector = v2v.get_word_vector(word)\n",
        "    if embedding_vector is not None:\n",
        "        embedding_matrix[i] = embedding_vector\n",
        "\n",
        "embedding_layer = Embedding(input_dim=vocab_size, output_dim=embedding_dim, weights=[embedding_matrix])\n",
        "\n",
        "embedded_premise = embedding_layer(input_premise)\n",
        "embedded_hypothesis = embedding_layer(input_hypothesis)\n",
        "\n",
        "#Do not Change pretrained embedding parameters.\n",
        "embedding_layer.trainable=False\n",
        "\n",
        "# BiLSTM\n",
        "lstm_layer = Bidirectional(LSTM(units=64, return_sequences=True))\n",
        "lstm_output_premise = lstm_layer(embedded_premise)\n",
        "lstm_output_hypothesis = lstm_layer(embedded_hypothesis)\n",
        "\n",
        "# MaxPooling\n",
        "pooling_premise = GlobalMaxPooling1D()(lstm_output_premise)\n",
        "pooling_hypothesis = GlobalMaxPooling1D()(lstm_output_hypothesis)\n",
        "\n",
        "output = Dense(units=2, activation='softmax')(Concatenate()([pooling_premise, pooling_hypothesis]))\n",
        "\n",
        "model = Model(inputs=[input_premise, input_hypothesis], outputs=output)\n",
        "\n",
        "model.compile(loss='sparse_categorical_crossentropy', optimizer='adam', metrics=['accuracy'])\n",
        "\n",
        "model.summary()\n"
      ]
    },
    {
      "cell_type": "code",
      "execution_count": 24,
      "metadata": {
        "id": "m17UnO0pKdcH"
      },
      "outputs": [],
      "source": [
        "def prep(file):\n",
        "  df=pd.read_csv(file)\n",
        "  df=df.fillna(value='')\n",
        "  labels=np.array(df['label'])\n",
        "  premise=df['premise'].tolist()\n",
        "  hypothesis=df['hypothesis'].tolist()\n",
        "\n",
        "  lemmatizer = WordNetLemmatizer()\n",
        "  p_pre=[]\n",
        "  h_pre=[]\n",
        "  for i in range(len(premise)):\n",
        "    p_token=[word for word in premise[i] if word not in string.punctuation]\n",
        "    p_token=[word.lower() for word in p_token]\n",
        "    #p_token=[word for word in p_token if word not in stop_words]\n",
        "    lemma_p=[lemmatizer.lemmatize(word) for word in p_token]\n",
        "    p_pre.append(lemma_p)\n",
        "\n",
        "    h_token=[word for word in hypothesis[i] if word not in string.punctuation]\n",
        "    h_token=[word.lower() for word in h_token]\n",
        "    #h_token=[word for word in h_token if word not in stop_words]\n",
        "    lemma_h=[lemmatizer.lemmatize(word) for word in h_token]\n",
        "    h_pre.append(lemma_h)\n",
        "\n",
        "  texts=p_pre+h_pre\n",
        "  tokenizer=Tokenizer(num_words=10000)\n",
        "  tokenizer.fit_on_texts(texts)\n",
        "  vocab_size=10000\n",
        "\n",
        "  max_sequence_length=120\n",
        "  p_seq = tokenizer.texts_to_sequences(p_pre)\n",
        "  padded_p = pad_sequences(p_seq, maxlen=max_sequence_length, padding='post', truncating='post')\n",
        "  h_seq = tokenizer.texts_to_sequences(h_pre)\n",
        "  padded_h = pad_sequences(h_seq, maxlen=max_sequence_length, padding='post', truncating='post')\n",
        "\n",
        "  return padded_p, padded_h, labels\n",
        "\n",
        "dev_p, dev_h, dev_labels=prep('dev.csv')"
      ]
    },
    {
      "cell_type": "code",
      "execution_count": 25,
      "metadata": {
        "colab": {
          "base_uri": "https://localhost:8080/"
        },
        "id": "llJ7ktPZbbG8",
        "outputId": "100e5d93-57ac-47b0-d34a-4737985e5d70"
      },
      "outputs": [
        {
          "name": "stdout",
          "output_type": "stream",
          "text": [
            "Epoch 1/20\n",
            "421/421 [==============================] - 146s 330ms/step - loss: 0.6779 - accuracy: 0.5672 - val_loss: 0.6717 - val_accuracy: 0.5725\n",
            "Epoch 2/20\n",
            "421/421 [==============================] - 139s 331ms/step - loss: 0.6729 - accuracy: 0.5731 - val_loss: 0.6775 - val_accuracy: 0.5695\n",
            "Epoch 3/20\n",
            "421/421 [==============================] - 135s 322ms/step - loss: 0.6693 - accuracy: 0.5833 - val_loss: 0.6706 - val_accuracy: 0.5830\n",
            "Epoch 4/20\n",
            "421/421 [==============================] - 134s 319ms/step - loss: 0.6674 - accuracy: 0.5847 - val_loss: 0.6733 - val_accuracy: 0.5768\n",
            "Epoch 5/20\n",
            "421/421 [==============================] - 140s 333ms/step - loss: 0.6664 - accuracy: 0.5897 - val_loss: 0.6735 - val_accuracy: 0.5774\n",
            "Epoch 6/20\n",
            "421/421 [==============================] - 126s 300ms/step - loss: 0.6631 - accuracy: 0.5965 - val_loss: 0.6654 - val_accuracy: 0.5957\n",
            "Epoch 7/20\n",
            "421/421 [==============================] - 135s 322ms/step - loss: 0.6559 - accuracy: 0.6075 - val_loss: 0.6553 - val_accuracy: 0.6068\n",
            "Epoch 8/20\n",
            "421/421 [==============================] - 136s 323ms/step - loss: 0.6459 - accuracy: 0.6197 - val_loss: 0.6475 - val_accuracy: 0.6199\n",
            "Epoch 9/20\n",
            "421/421 [==============================] - 136s 324ms/step - loss: 0.6372 - accuracy: 0.6294 - val_loss: 0.6431 - val_accuracy: 0.6210\n",
            "Epoch 10/20\n",
            "421/421 [==============================] - 136s 324ms/step - loss: 0.6318 - accuracy: 0.6338 - val_loss: 0.6404 - val_accuracy: 0.6237\n",
            "Epoch 11/20\n",
            "421/421 [==============================] - 137s 325ms/step - loss: 0.6287 - accuracy: 0.6407 - val_loss: 0.6443 - val_accuracy: 0.6289\n",
            "Epoch 12/20\n",
            "421/421 [==============================] - 125s 296ms/step - loss: 0.6242 - accuracy: 0.6417 - val_loss: 0.6395 - val_accuracy: 0.6169\n",
            "Epoch 13/20\n",
            "421/421 [==============================] - 126s 299ms/step - loss: 0.6197 - accuracy: 0.6476 - val_loss: 0.6348 - val_accuracy: 0.6390\n",
            "Epoch 14/20\n",
            "421/421 [==============================] - 127s 302ms/step - loss: 0.6173 - accuracy: 0.6497 - val_loss: 0.6334 - val_accuracy: 0.6328\n",
            "Epoch 15/20\n",
            "421/421 [==============================] - 137s 325ms/step - loss: 0.6116 - accuracy: 0.6598 - val_loss: 0.6383 - val_accuracy: 0.6320\n",
            "Epoch 16/20\n",
            "421/421 [==============================] - 139s 330ms/step - loss: 0.6093 - accuracy: 0.6580 - val_loss: 0.6345 - val_accuracy: 0.6331\n",
            "Epoch 17/20\n",
            "421/421 [==============================] - 127s 302ms/step - loss: 0.6043 - accuracy: 0.6647 - val_loss: 0.6313 - val_accuracy: 0.6307\n",
            "Epoch 18/20\n",
            "421/421 [==============================] - 136s 323ms/step - loss: 0.6003 - accuracy: 0.6672 - val_loss: 0.6342 - val_accuracy: 0.6417\n",
            "Epoch 19/20\n",
            "421/421 [==============================] - 134s 318ms/step - loss: 0.5983 - accuracy: 0.6704 - val_loss: 0.6283 - val_accuracy: 0.6390\n",
            "Epoch 20/20\n",
            "421/421 [==============================] - 134s 319ms/step - loss: 0.5943 - accuracy: 0.6737 - val_loss: 0.6318 - val_accuracy: 0.6369\n",
            "The training time is 2728.034s.\n"
          ]
        }
      ],
      "source": [
        "#train the model and evaluate on dev.\n",
        "model.compile(optimizer='adam', loss='sparse_categorical_crossentropy', metrics=['accuracy'])\n",
        "start=time.time()\n",
        "stasts=model.fit([padded_p, padded_h], labels, epochs=20, batch_size=64, validation_data=([dev_p, dev_h], dev_labels))\n",
        "end=time.time()\n",
        "excecution_time=round(end-start, 3)\n",
        "print(f'The training time is {excecution_time}s.')"
      ]
    },
    {
      "cell_type": "code",
      "execution_count": 34,
      "metadata": {
        "colab": {
          "base_uri": "https://localhost:8080/"
        },
        "id": "_FfzUUy4bbG9",
        "outputId": "9d86014c-6b0e-4a1f-fb8b-ab2fb29028ef"
      },
      "outputs": [
        {
          "name": "stderr",
          "output_type": "stream",
          "text": [
            "/usr/local/lib/python3.10/dist-packages/keras/src/engine/training.py:3103: UserWarning: You are saving your model as an HDF5 file via `model.save()`. This file format is considered legacy. We recommend using instead the native Keras format, e.g. `model.save('my_model.keras')`.\n",
            "  saving_api.save_model(\n"
          ]
        }
      ],
      "source": [
        "model.save('BiLSTM.h5')"
      ]
    },
    {
      "cell_type": "code",
      "execution_count": 27,
      "metadata": {
        "colab": {
          "base_uri": "https://localhost:8080/",
          "height": 452
        },
        "id": "9HnoFwqohWdb",
        "outputId": "7247bc84-6d06-47be-d4ea-214fb3928f74"
      },
      "outputs": [
        {
          "data": {
            "image/png": "[encoded data removed]",
            "text/plain": [
              "<Figure size 640x480 with 1 Axes>"
            ]
          },
          "metadata": {},
          "output_type": "display_data"
        }
      ],
      "source": [
        "plt.title('Loss')\n",
        "plt.plot(stasts.history['loss'], label='train')\n",
        "plt.legend()\n",
        "plt.show()"
      ]
    },
    {
      "cell_type": "code",
      "execution_count": 28,
      "metadata": {
        "colab": {
          "base_uri": "https://localhost:8080/",
          "height": 452
        },
        "id": "ixYOw4MThXYy",
        "outputId": "3e51bd53-0ede-4932-db27-907b389526ac"
      },
      "outputs": [
        {
          "data": {
            "image/png": "[encoded data removed]",
            "text/plain": [
              "<Figure size 640x480 with 1 Axes>"
            ]
          },
          "metadata": {},
          "output_type": "display_data"
        }
      ],
      "source": [
        "plt.title('Accuracy')\n",
        "plt.plot(stasts.history['accuracy'], label='train')\n",
        "plt.legend()\n",
        "plt.show()"
      ]
    },
    {
      "cell_type": "code",
      "execution_count": 29,
      "metadata": {
        "colab": {
          "base_uri": "https://localhost:8080/"
        },
        "id": "6NwlqeGFlPnK",
        "outputId": "b3fff3e0-3b98-4335-9bc5-aa9e43b432d0"
      },
      "outputs": [
        {
          "name": "stdout",
          "output_type": "stream",
          "text": [
            "211/211 [==============================] - 16s 76ms/step - loss: 0.6318 - accuracy: 0.6369\n"
          ]
        }
      ],
      "source": [
        "loss_dev, accuracy_dev = model.evaluate([dev_p, dev_h], dev_labels)"
      ]
    },
    {
      "cell_type": "code",
      "execution_count": null,
      "metadata": {
        "id": "fl27YMwdp4oB"
      },
      "outputs": [],
      "source": [
        "dev_pred=model.predict([dev_p, dev_h])\n",
        "dev_ps=np.argmax(dev_pred, axis=1)\n",
        "df_dev=pd.DataFrame({'prediction': dev_ps})\n",
        "df_dev.to_csv('dev_prediction.csv', index=False)"
      ]
    },
    {
      "cell_type": "code",
      "execution_count": 33,
      "metadata": {
        "colab": {
          "base_uri": "https://localhost:8080/"
        },
        "id": "LTHlppgAp7cR",
        "outputId": "f547d4ae-3da9-47e1-e3c2-97274eeccdec"
      },
      "outputs": [
        {
          "name": "stdout",
          "output_type": "stream",
          "text": [
            "0.6245173745173745\n",
            "0.7441058079355952\n",
            "0.6790868538441355\n"
          ]
        }
      ],
      "source": [
        "from sklearn.metrics import f1_score, precision_score, recall_score\n",
        "\n",
        "precision=precision_score(dev_labels, dev_ps)\n",
        "recall=recall_score(dev_labels, dev_ps)\n",
        "f1 = f1_score(dev_labels, dev_ps)\n",
        "print(precision)\n",
        "print(recall)\n",
        "print(f1)"
      ]
    }
  ],
  "metadata": {
    "colab": {
      "provenance": []
    },
    "kernelspec": {
      "display_name": "Python 3",
      "name": "python3"
    },
    "language_info": {
      "name": "python"
    }
  },
  "nbformat": 4,
  "nbformat_minor": 0
}
